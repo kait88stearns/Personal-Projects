{
 "cells": [
  {
   "cell_type": "code",
   "execution_count": 1,
   "metadata": {
    "collapsed": true
   },
   "outputs": [],
   "source": [
    "import numpy as np\n",
    "import sklearn.datasets\n",
    "import K_Means\n",
    "import matplotlib.pyplot as plt\n",
    "%matplotlib inline"
   ]
  },
  {
   "cell_type": "code",
   "execution_count": 2,
   "metadata": {
    "collapsed": true
   },
   "outputs": [],
   "source": [
    "data = sklearn.datasets.load_iris()\n",
    "iris = data['data']"
   ]
  },
  {
   "cell_type": "code",
   "execution_count": 3,
   "metadata": {
    "collapsed": true
   },
   "outputs": [],
   "source": [
    "km_all = K_Means.K_Means_PlusPlus(iris)"
   ]
  },
  {
   "cell_type": "code",
   "execution_count": 4,
   "metadata": {
    "collapsed": true
   },
   "outputs": [],
   "source": [
    "km_all.fit()\n",
    "assignments = km_all.get_assignments()"
   ]
  },
  {
   "cell_type": "code",
   "execution_count": 5,
   "metadata": {
    "collapsed": true
   },
   "outputs": [],
   "source": [
    "col1 = (iris*[1,0,1,0])\n",
    "col2 = col1[col1>0]\n",
    "data = col2.reshape(150,2)"
   ]
  },
  {
   "cell_type": "markdown",
   "metadata": {},
   "source": [
    "# The data to cluster"
   ]
  },
  {
   "cell_type": "code",
   "execution_count": 6,
   "metadata": {},
   "outputs": [
    {
     "data": {
      "image/png": "[encoded data removed]",
      "text/plain": [
       "<matplotlib.figure.Figure at 0x11038fb00>"
      ]
     },
     "metadata": {},
     "output_type": "display_data"
    }
   ],
   "source": [
    "fig, ax = plt.subplots()\n",
    "_=ax.scatter(data[:,0],data[:,1])"
   ]
  },
  {
   "cell_type": "code",
   "execution_count": 7,
   "metadata": {
    "collapsed": true
   },
   "outputs": [],
   "source": [
    "km =K_Means.K_Means_PlusPlus(data)\n",
    "km.fit(k=2)\n",
    "clusters =km.get_assignments()\n"
   ]
  },
  {
   "cell_type": "code",
   "execution_count": 8,
   "metadata": {},
   "outputs": [
    {
     "data": {
      "image/png": "[encoded data removed]",
      "text/plain": [
       "<matplotlib.figure.Figure at 0x11038f6a0>"
      ]
     },
     "metadata": {},
     "output_type": "display_data"
    }
   ],
   "source": [
    "km.plot_clusters()"
   ]
  },
  {
   "cell_type": "code",
   "execution_count": 17,
   "metadata": {
    "collapsed": true
   },
   "outputs": [],
   "source": [
    "km2 = K_Means.K_Means_PlusPlus(data)\n",
    "km2.fit(k=4)"
   ]
  },
  {
   "cell_type": "code",
   "execution_count": 18,
   "metadata": {},
   "outputs": [
    {
     "data": {
      "text/plain": [
       "{0: [[7.0, 4.7],\n",
       "  [6.4, 4.5],\n",
       "  [6.9, 4.9],\n",
       "  [6.5, 4.6],\n",
       "  [6.3, 4.7],\n",
       "  [6.6, 4.6],\n",
       "  [6.1, 4.7],\n",
       "  [6.7, 4.4],\n",
       "  [6.2, 4.5],\n",
       "  [5.9, 4.8],\n",
       "  [6.3, 4.9],\n",
       "  [6.1, 4.7],\n",
       "  [6.4, 4.3],\n",
       "  [6.6, 4.4],\n",
       "  [6.8, 4.8],\n",
       "  [6.7, 5.0],\n",
       "  [6.0, 4.5],\n",
       "  [6.0, 5.1],\n",
       "  [6.0, 4.5],\n",
       "  [6.7, 4.7],\n",
       "  [6.3, 4.4],\n",
       "  [6.1, 4.6],\n",
       "  [6.2, 4.3],\n",
       "  [5.8, 5.1],\n",
       "  [6.3, 5.6],\n",
       "  [6.5, 5.1],\n",
       "  [6.4, 5.3],\n",
       "  [5.7, 5.0],\n",
       "  [5.8, 5.1],\n",
       "  [6.4, 5.3],\n",
       "  [6.5, 5.5],\n",
       "  [6.0, 5.0],\n",
       "  [5.6, 4.9],\n",
       "  [6.3, 4.9],\n",
       "  [6.2, 4.8],\n",
       "  [6.1, 4.9],\n",
       "  [6.4, 5.6],\n",
       "  [6.4, 5.6],\n",
       "  [6.3, 5.1],\n",
       "  [6.1, 5.6],\n",
       "  [6.3, 5.6],\n",
       "  [6.4, 5.5],\n",
       "  [6.0, 4.8],\n",
       "  [6.9, 5.1],\n",
       "  [5.8, 5.1],\n",
       "  [6.7, 5.2],\n",
       "  [6.3, 5.0],\n",
       "  [6.5, 5.2],\n",
       "  [6.2, 5.4],\n",
       "  [5.9, 5.1]],\n",
       " 1: [[5.1, 1.4],\n",
       "  [4.9, 1.4],\n",
       "  [4.7, 1.3],\n",
       "  [4.6, 1.5],\n",
       "  [5.0, 1.4],\n",
       "  [5.4, 1.7],\n",
       "  [4.6, 1.4],\n",
       "  [5.0, 1.5],\n",
       "  [4.4, 1.4],\n",
       "  [4.9, 1.5],\n",
       "  [5.4, 1.5],\n",
       "  [4.8, 1.6],\n",
       "  [4.8, 1.4],\n",
       "  [4.3, 1.1],\n",
       "  [5.8, 1.2],\n",
       "  [5.7, 1.5],\n",
       "  [5.4, 1.3],\n",
       "  [5.1, 1.4],\n",
       "  [5.7, 1.7],\n",
       "  [5.1, 1.5],\n",
       "  [5.4, 1.7],\n",
       "  [5.1, 1.5],\n",
       "  [4.6, 1.0],\n",
       "  [5.1, 1.7],\n",
       "  [4.8, 1.9],\n",
       "  [5.0, 1.6],\n",
       "  [5.0, 1.6],\n",
       "  [5.2, 1.5],\n",
       "  [5.2, 1.4],\n",
       "  [4.7, 1.6],\n",
       "  [4.8, 1.6],\n",
       "  [5.4, 1.5],\n",
       "  [5.2, 1.5],\n",
       "  [5.5, 1.4],\n",
       "  [4.9, 1.5],\n",
       "  [5.0, 1.2],\n",
       "  [5.5, 1.3],\n",
       "  [4.9, 1.5],\n",
       "  [4.4, 1.3],\n",
       "  [5.1, 1.5],\n",
       "  [5.0, 1.3],\n",
       "  [4.5, 1.3],\n",
       "  [4.4, 1.3],\n",
       "  [5.0, 1.6],\n",
       "  [5.1, 1.9],\n",
       "  [4.8, 1.4],\n",
       "  [5.1, 1.6],\n",
       "  [4.6, 1.4],\n",
       "  [5.3, 1.5],\n",
       "  [5.0, 1.4]],\n",
       " 2: [[5.5, 4.0],\n",
       "  [5.7, 4.5],\n",
       "  [4.9, 3.3],\n",
       "  [5.2, 3.9],\n",
       "  [5.0, 3.5],\n",
       "  [5.9, 4.2],\n",
       "  [6.0, 4.0],\n",
       "  [5.6, 3.6],\n",
       "  [5.6, 4.5],\n",
       "  [5.8, 4.1],\n",
       "  [5.6, 3.9],\n",
       "  [6.1, 4.0],\n",
       "  [5.7, 3.5],\n",
       "  [5.5, 3.8],\n",
       "  [5.5, 3.7],\n",
       "  [5.8, 3.9],\n",
       "  [5.4, 4.5],\n",
       "  [5.6, 4.1],\n",
       "  [5.5, 4.0],\n",
       "  [5.5, 4.4],\n",
       "  [5.8, 4.0],\n",
       "  [5.0, 3.3],\n",
       "  [5.6, 4.2],\n",
       "  [5.7, 4.2],\n",
       "  [5.7, 4.2],\n",
       "  [5.1, 3.0],\n",
       "  [5.7, 4.1],\n",
       "  [4.9, 4.5]],\n",
       " 3: [[6.3, 6.0],\n",
       "  [7.1, 5.9],\n",
       "  [6.5, 5.8],\n",
       "  [7.6, 6.6],\n",
       "  [7.3, 6.3],\n",
       "  [6.7, 5.8],\n",
       "  [7.2, 6.1],\n",
       "  [6.8, 5.5],\n",
       "  [7.7, 6.7],\n",
       "  [7.7, 6.9],\n",
       "  [6.9, 5.7],\n",
       "  [7.7, 6.7],\n",
       "  [6.7, 5.7],\n",
       "  [7.2, 6.0],\n",
       "  [7.2, 5.8],\n",
       "  [7.4, 6.1],\n",
       "  [7.9, 6.4],\n",
       "  [7.7, 6.1],\n",
       "  [6.9, 5.4],\n",
       "  [6.7, 5.6],\n",
       "  [6.8, 5.9],\n",
       "  [6.7, 5.7]]}"
      ]
     },
     "execution_count": 18,
     "metadata": {},
     "output_type": "execute_result"
    }
   ],
   "source": [
    "km2.get_assignments()\n"
   ]
  },
  {
   "cell_type": "code",
   "execution_count": 19,
   "metadata": {},
   "outputs": [
    {
     "data": {
      "image/png": "[encoded data removed]",
      "text/plain": [
       "<matplotlib.figure.Figure at 0x1108545c0>"
      ]
     },
     "metadata": {},
     "output_type": "display_data"
    }
   ],
   "source": [
    "km2.plot_clusters()"
   ]
  },
  {
   "cell_type": "code",
   "execution_count": null,
   "metadata": {
    "collapsed": true
   },
   "outputs": [],
   "source": []
  },
  {
   "cell_type": "code",
   "execution_count": null,
   "metadata": {
    "collapsed": true
   },
   "outputs": [],
   "source": []
  }
 ],
 "metadata": {
  "kernelspec": {
   "display_name": "Python 3",
   "language": "python",
   "name": "python3"
  },
  "language_info": {
   "codemirror_mode": {
    "name": "ipython",
    "version": 3
   },
   "file_extension": ".py",
   "mimetype": "text/x-python",
   "name": "python",
   "nbconvert_exporter": "python",
   "pygments_lexer": "ipython3",
   "version": "3.6.1"
  }
 },
 "nbformat": 4,
 "nbformat_minor": 2
}
