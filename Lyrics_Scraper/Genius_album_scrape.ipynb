{
 "cells": [
  {
   "cell_type": "code",
   "execution_count": 1,
   "metadata": {
    "collapsed": true
   },
   "outputs": [],
   "source": [
    "import requests\n",
    "from IPython.display import HTML\n",
    "from bs4 import BeautifulSoup\n",
    "import re"
   ]
  },
  {
   "cell_type": "code",
   "execution_count": 5,
   "metadata": {
    "collapsed": true
   },
   "outputs": [],
   "source": [
    "def scrape_album(artist, album):\n",
    "    '''\n",
    "    Input: \n",
    "        artist = string: as 'First-last' if name is more than one word\n",
    "        album = list of strings: all lowercase, words separated by -\n",
    "    Output: \n",
    "        corpus = list of strings: each string is the refined text of one song\n",
    "    '''\n",
    "    corpus = []\n",
    "    for song in album:\n",
    "        response = requests.get('https://genius.com/{}-{}-lyrics'.format(artist,song))\n",
    "        soup = BeautifulSoup(response.text, \"html.parser\")\n",
    "        lyrics=''\n",
    "        for item in soup.find_all('a', {'href': re.compile('/{}-{}-lyrics'.format(artist,song))}):\n",
    "            section = re.sub('\\n',' ', item.text)\n",
    "            section = re.sub('\\[.+?\\]',' ',section)\n",
    "            lyrics+= section + ' '\n",
    "        corpus.append(lyrics) \n",
    "    return corpus"
   ]
  },
  {
   "cell_type": "markdown",
   "metadata": {
    "collapsed": true
   },
   "source": [
    "# Examples:"
   ]
  },
  {
   "cell_type": "code",
   "execution_count": 6,
   "metadata": {},
   "outputs": [],
   "source": [
    "Kendrick_corp = scrape_album('Kendrick-lamar', ['dna', 'blood', 'loyalty'])"
   ]
  },
  {
   "cell_type": "code",
   "execution_count": 9,
   "metadata": {},
   "outputs": [],
   "source": [
    "Beyonce_corp = scrape_album('Beyonce', ['hold-up', 'drunk-in-love', 'formation'])"
   ]
  },
  {
   "cell_type": "code",
   "execution_count": 13,
   "metadata": {},
   "outputs": [
    {
     "data": {
      "text/plain": [
       "'I\\'ve been drinkin\\', I\\'ve been drinkin\\' I get filthy when that liquor get into me I\\'ve been thinkin\\', I\\'ve been thinkin\\' Why can\\'t I keep my fingers off it? Baby, I want you, now-now Why can\\'t I keep my fingers off you? Baby, I want you, now-now Cigars on ice, cigars on ice Feelin\\' like an animal with these cameras all in my grill Flashin\\' lights, flashin\\' lights You got me faded, faded, faded Baby, I want you, now-now Can\\'t keep your eyes off my fatty Daddy, I want you, now-now Drunk in love, I want you We woke up in the kitchen Saying, \"How the hell did this shit happen?\" Oh, baby, drunk in love We be all night, last thing I remember Is our beautiful bodies grindin\\' up in that club Drunk in love We be all night, love, love We be all night, love, love We be all night, and everything all right No complaints from my body So fluorescent under these lights Boy, I\\'m drinkin\\', park it in my lot, 7-11 I\\'m rubbin\\' on it, rub-rubbin\\' If you scared, call that reverend Boy, I\\'m drinkin\\', get my brain right Armand de Brignac, gangster wife Louis sheets, he sweat it out Like washrags, he wet it up Boy, I\\'m drinkin\\', I\\'m singin\\' on the mic to my boy\\'s toys Then I fill the tub up halfway Then ride it with my surfboard, surfboard, surfboard Grainin\\' on that wood Grainin\\'-grainin\\' on that wood I\\'m swervin\\' on that, swervin\\'-swervin\\' on that Big body been servin\\' all this Swerve, surfin\\' all in this good-good We woke up in the kitchen Saying, \"How the hell did this shit happen?\" Oh, baby, drunk in love We be all night, last thing I remember Is our beautiful bodies grindin\\' up in that club Drunk in love We be all night, love, love We be all night, love, love I\\'m nice right now… Hold up! That D\\'USSÉ is the shit if I do say so myself If I do say so myself, if I do say so myself Talkin\\' about you be reppin\\' that Third I wanna see all that shit that I heard Know I sling Clint Eastwood Hope you can handle this curve, uh Foreplay in a foyer, fucked up my Warhol On sight, catch a charge I might Beat the box up, like Mike in \\'97, I bite I\\'m Ike Turner, turn up, baby, no I don\\'t play \"Now eat the cake, Anna Mae!\" Said, \"Eat the cake, Anna Mae!\" I\\'m nice, for y\\'all to reach these heights You gon\\' need G3, 4, 5, 6 flights Sleep tight, we sex again in the morning Your breasteses is my breakfast We goin\\' in, we be all night We be all night, love, love We be all night, love, love I\\'m never tired, never tired I been sippin\\', that\\'s the only thing That\\'s keepin\\' me on fire, we on fire Didn\\'t mean to spill that liquor all on my attire I\\'ve been drinkin\\', watermelon I want your body right here Daddy, I want you, right now Can\\'t keep your eyes off my fatty Daddy, I want you We be all night, love, love We be all night, love, love    Drunk in Love Lyrics  '"
      ]
     },
     "execution_count": 13,
     "metadata": {},
     "output_type": "execute_result"
    }
   ],
   "source": [
    "Beyonce_corp"
   ]
  },
  {
   "cell_type": "code",
   "execution_count": 54,
   "metadata": {},
   "outputs": [
    {
     "data": {
      "text/plain": [
       "['Hands up, officer don’t shoot Then pull your pants up, promise you won\\'t loot We may never understand each other, it’s no use We ain’t ever gonna grasp what each other goes through Black boy, black boy, we ain\\'t gonna lie to you Black boy, black boy, we don\\'t like the sight of you Pull up on the side of you Window rolled down, \\'profile\\' Then we wonder why we see this side of you Probably comin\\' from the dope house We could let you slide but your tail light is blew, out We know you\\'re hidin\\' that Heidi Klum On you another drug charge, homie, it\\'s back inside for you And just in case a chase might ensue, we got that tried and true Pistol drew right at you, we\\'d be delighted to unload it In your back, then walk up and lay that taser on the side of you Fucked up, but what the fuck am I to do? I keep tellin\\' myself, keep doin\\' like you\\'re doin\\' No matter how many lives you ruin It\\'s for the red, white and blue Time to go find a new one and split his head right in two No one\\'s ever indicted you Why? \\'Cause you\\'re a... White boy, white boy, you\\'re a rockstar My momma talkin\\' to me, tryna tell me how to live White boy, white boy, in your cop car But I don\\'t listen to her, \\'cause my head is like a sieve White boy, white boy, you\\'re untouchable The world\\'s coming to an end, I don\\'t even care Nobody can tell me shit \\'cause I\\'m a big rockstar Black boy, black boy, we don\\'t get your culture and We don\\'t care what our government\\'s done to fuck you over, man Don\\'t tell us your attitude\\'s a result of that Balderdash, where’d you get the chip on your shoulder at? Why you kicking that soda can? Pull your pants up, we \\'bout to roll up and Throw your ass in the van cuffed You don\\'t have to know our plans or what our intentions are Our cards are close to our chest, you better show your hands And put our minds more at ease Or get shot in the thyroid, comply or die, boy We\\'re fightin\\' a crime war, here come the swine Tryna clean up the streets from all these minorities That\\'s what we call \\'em pigsties for They\\'re like eyesores to police Talk to you like just a piece of trash Feels like we\\'re stuck in a time warp to me As I kick these facts and get these mixed reactions As this beat backspins, it\\'s like we\\'re drifting back in To the sixties, having black skin is risky \\'Cause this keeps happening Throughout history, African-Americans have been treated like shit White boy, white boy, you\\'re a rockstar My momma talkin\\' to me, tryna tell me how to live White boy, white boy, in your cop car But I don\\'t listen to her, \\'cause my head is like a sieve White boy, white boy, you\\'re untouchable The world\\'s coming to an end, I don\\'t even care Nobody can tell me shit \\'cause I\\'m a big rockstar Seems like the average lifespan of a white man Is more than twice than a black life span I wonder sometimes if it has a price scanner I feel like checking out on life, can\\'t escape this circumstance I\\'d rather hear \\'em say \"Die N-word\" than Die Antwoord Ninja, now it\\'s better disguised banter But that\\'s life, strapped \\'cause we\\'re strapped financially And can\\'t find answers We\\'re applying, but McDonald\\'s Seems to be the only franchise that\\'ll hire So how can we have higher standards? As Dallas overshadows the battle for Black Lives Matter We fight back with violence but acts like that are Black eyes on the movement Which makes black lives madder At cops and cops madder That\\'s why it\\'s at a stalemate Can\\'t arrive at a compromise so it\\'s Black Ops The block is our backyards, officers, not the crack spot You always act all pissed off at us at a traffic stop Sendin\\' white cops in the black neighborhoods Who ain\\'t acclimated to \\'em, like that\\'s the way to do it Who seen some fuckin\\' videos of rappers waving guns And know nobody black so they act afraid of us And that\\'s racism, the fear that a black face gives \\'em A subconscious racist Wait, why are there black neighborhoods? \\'Cause America segregated us, designated us to an area Separated us, Section-Eight\\'d us When we tear it up’s the only time attention’s paid to us And education sucks,  and every day\\'s another Freddie Gray for us, a levy breaks or fuzz Why is it they treat us like dryer lint? We just want a safe environment for our kids But can’t escape the sirens Don’t take a scientist to see our violent nature lies in The poverty that we face so the crime rate’s the highest in The lowest classes, And we’re trapped in these racial biases That plague our society which makes our anxiety levels raise Every time we see a devil’s face Lions, tigers, and bears, oh my It\\'s more like billy clubs and gats And we really love it when you think we’re guilty ‘cause we’re black \"But you kill each other, facts You peel each other\\'s caps, for silly stuff like hats” Single mother strugglin’ through substance abuse While people with nothin\\' to lose shoot each other for shoes Fuck your Republican views Pull ourselves up by our bootstraps, where the fuck are the boots? And streets act as a narrator, don\\'t gotta read comics Or be that into characters, just to see that, just to be black You better be strapped with a derringer Or be “capped in America” like Steve Rogers \\'Cause no one oversees these cops and All we see is \\'em beat charges We done seen \\'em beat Rodney King unconscious, and got off So we don\\'t need all you crooked police officers\\' peace offerings Just keep marchin\\', \\'til we reach congress But they\\'re gonna say you\\'re tryin\\' to take an irrational stance If you try to slander the flag but Somebody has to be the sacrificial lamb So they call it a Kaepernick tantrum If you don\\'t stand for the national anthem We raise it, you better praise it Or you\\'ll be made to feel like a traitor, we\\'ll Treat you like Rodney Dangerfield Home of the brave is still racist \\'ville So this whole nation feels like a plantation field In a country that claims that its foundation was based on United States ideals That had its Natives killed Got you singin\\' this star-spangled spiel To a piece of cloth that represents the \"Land of the Free\" that made people slaves to build  Untouchable Lyrics  ']"
      ]
     },
     "execution_count": 54,
     "metadata": {},
     "output_type": "execute_result"
    }
   ],
   "source": [
    "scrape_album('Eminem', ['untouchable'])"
   ]
  },
  {
   "cell_type": "code",
   "execution_count": null,
   "metadata": {
    "collapsed": true
   },
   "outputs": [],
   "source": []
  },
  {
   "cell_type": "code",
   "execution_count": 57,
   "metadata": {
    "collapsed": true
   },
   "outputs": [],
   "source": [
    "from sklearn.feature_extraction.text import CountVectorizer\n",
    "from nltk import word_tokenize\n",
    "from nltk.corpus import stopwords\n",
    "import string"
   ]
  },
  {
   "cell_type": "code",
   "execution_count": 50,
   "metadata": {
    "collapsed": true
   },
   "outputs": [],
   "source": [
    "text = word_tokenize(text)\n"
   ]
  },
  {
   "cell_type": "code",
   "execution_count": 59,
   "metadata": {
    "collapsed": true
   },
   "outputs": [],
   "source": [
    "def make_bag(text, stop_words, grammar):\n",
    "    bag=[]\n",
    "    for word in text:\n",
    "        if word not in stop_words and word not in grammar:\n",
    "            bag.append(word)\n",
    "    return bag        "
   ]
  },
  {
   "cell_type": "code",
   "execution_count": 2,
   "metadata": {},
   "outputs": [
    {
     "ename": "NameError",
     "evalue": "name 'stopwords' is not defined",
     "output_type": "error",
     "traceback": [
      "\u001b[0;31m---------------------------------------------------------------------\u001b[0m",
      "\u001b[0;31mNameError\u001b[0m                           Traceback (most recent call last)",
      "\u001b[0;32m<ipython-input-2-cb51af969647>\u001b[0m in \u001b[0;36m<module>\u001b[0;34m()\u001b[0m\n\u001b[0;32m----> 1\u001b[0;31m \u001b[0mstops\u001b[0m \u001b[0;34m=\u001b[0m \u001b[0mset\u001b[0m\u001b[0;34m(\u001b[0m\u001b[0mstopwords\u001b[0m\u001b[0;34m.\u001b[0m\u001b[0mwords\u001b[0m\u001b[0;34m(\u001b[0m\u001b[0;34m'english'\u001b[0m\u001b[0;34m)\u001b[0m\u001b[0;34m)\u001b[0m\u001b[0;34m\u001b[0m\u001b[0m\n\u001b[0m\u001b[1;32m      2\u001b[0m \u001b[0mpunctuation\u001b[0m \u001b[0;34m=\u001b[0m \u001b[0mset\u001b[0m\u001b[0;34m(\u001b[0m\u001b[0mstring\u001b[0m\u001b[0;34m.\u001b[0m\u001b[0mpunctuation\u001b[0m\u001b[0;34m)\u001b[0m\u001b[0;34m\u001b[0m\u001b[0m\n\u001b[1;32m      3\u001b[0m \u001b[0mmake_bag\u001b[0m\u001b[0;34m(\u001b[0m\u001b[0mtext\u001b[0m\u001b[0;34m,\u001b[0m \u001b[0mstop_words\u001b[0m\u001b[0;34m=\u001b[0m\u001b[0mstops\u001b[0m\u001b[0;34m,\u001b[0m \u001b[0mgrammar\u001b[0m\u001b[0;34m=\u001b[0m \u001b[0mpunctuation\u001b[0m\u001b[0;34m)\u001b[0m\u001b[0;34m;\u001b[0m\u001b[0;34m\u001b[0m\u001b[0m\n",
      "\u001b[0;31mNameError\u001b[0m: name 'stopwords' is not defined"
     ]
    }
   ],
   "source": [
    "stops = set(stopwords.words('english'))\n",
    "punctuation = set(string.punctuation)\n",
    "make_bag(text, stop_words=stops, grammar= punctuation);"
   ]
  },
  {
   "cell_type": "code",
   "execution_count": 44,
   "metadata": {
    "collapsed": true
   },
   "outputs": [],
   "source": [
    "def make_vocab_lists(text):\n",
    "    vocab_lists = []\n",
    "    text = text.lower()\n",
    "    text = re.sub(\"[]\", \"\", text)\n",
    "    #text = re.sub(r\"\\\\x.{2}\", \"\", text)\n",
    "    #text = \"\".join([letter for letter in content if ord(letter) < 128]) \n",
    "    text = word_tokenize(text)\n",
    "    vocab_lists.append(text)\n",
    "    return vocab_lists        "
   ]
  },
  {
   "cell_type": "code",
   "execution_count": null,
   "metadata": {
    "collapsed": true
   },
   "outputs": [],
   "source": []
  },
  {
   "cell_type": "code",
   "execution_count": 24,
   "metadata": {
    "collapsed": true
   },
   "outputs": [],
   "source": [
    "prof_response = requests.get('http://www.slate.com/blogs/lexicon_valley/2013/09/11/top_swear_words_most_popular_curse_words_on_facebook.html')\n",
    "prof_soup = BeautifulSoup(prof_response.text, \"html.parser\")"
   ]
  },
  {
   "cell_type": "code",
   "execution_count": 21,
   "metadata": {},
   "outputs": [],
   "source": [
    "swears = set([word.text for word in rof_soup.find_all('td', {'class': re.compile('cell_word')})])\n"
   ]
  },
  {
   "cell_type": "code",
   "execution_count": 22,
   "metadata": {},
   "outputs": [
    {
     "data": {
      "text/plain": [
       "{'',\n",
       " '1',\n",
       " '10',\n",
       " '11',\n",
       " '12',\n",
       " '13',\n",
       " '13-17',\n",
       " '14',\n",
       " '15',\n",
       " '16',\n",
       " '17',\n",
       " '18',\n",
       " '18-24',\n",
       " '19',\n",
       " '2',\n",
       " '20',\n",
       " '25-34',\n",
       " '3',\n",
       " '35-44',\n",
       " '4',\n",
       " '45-54',\n",
       " '5',\n",
       " '55+',\n",
       " '6',\n",
       " '7',\n",
       " '8',\n",
       " '9',\n",
       " 'Australia',\n",
       " 'Both',\n",
       " 'Britain',\n",
       " 'Canada',\n",
       " 'Female',\n",
       " 'Male',\n",
       " 'Midwest',\n",
       " 'Northeast',\n",
       " 'South',\n",
       " 'U.S.',\n",
       " 'West',\n",
       " 'arsehole',\n",
       " 'asshole',\n",
       " 'bastard',\n",
       " 'bitch',\n",
       " 'bloody',\n",
       " 'bollocks',\n",
       " 'bugger',\n",
       " 'cock',\n",
       " 'crap',\n",
       " 'cunt',\n",
       " 'damn',\n",
       " 'darn',\n",
       " 'dick',\n",
       " 'douche',\n",
       " 'fag',\n",
       " 'fuck',\n",
       " 'piss',\n",
       " 'pussy',\n",
       " 'shit',\n",
       " 'slut'}"
      ]
     },
     "execution_count": 22,
     "metadata": {},
     "output_type": "execute_result"
    }
   ],
   "source": [
    "swears"
   ]
  },
  {
   "cell_type": "code",
   "execution_count": 25,
   "metadata": {
    "collapsed": true
   },
   "outputs": [],
   "source": [
    "import numpy as np"
   ]
  },
  {
   "cell_type": "code",
   "execution_count": 32,
   "metadata": {
    "collapsed": true
   },
   "outputs": [],
   "source": []
  },
  {
   "cell_type": "code",
   "execution_count": 29,
   "metadata": {},
   "outputs": [
    {
     "data": {
      "text/plain": [
       "1"
      ]
     },
     "execution_count": 29,
     "metadata": {},
     "output_type": "execute_result"
    }
   ],
   "source": []
  },
  {
   "cell_type": "code",
   "execution_count": null,
   "metadata": {
    "collapsed": true
   },
   "outputs": [],
   "source": [
    "def pick_peaks(arr):\n",
    "    arg\n",
    "    #your code here\n",
    "    return \"{pos: [{}], peaks: [{}]}\".format()"
   ]
  },
  {
   "cell_type": "code",
   "execution_count": 52,
   "metadata": {},
   "outputs": [],
   "source": [
    "def pick_peaks(arr):\n",
    "    max_pos = np.argmax(arr)\n",
    "    min_pos = np.argmin(arr)\n",
    "    max = arr[max_pos]\n",
    "    min = arr[min_pos]\n",
    "    pos =[]\n",
    "    peaks=[]\n",
    "    for peak, position in zip([max, min], [max_pos, min_pos]):\n",
    "        if arr.count(peak) == 1:\n",
    "            peaks.append(peak)\n",
    "            pos.append(position)  \n",
    "    return \"pos: {}, peaks: {}\".format(pos, peaks)"
   ]
  },
  {
   "cell_type": "code",
   "execution_count": null,
   "metadata": {
    "collapsed": true
   },
   "outputs": [],
   "source": []
  },
  {
   "cell_type": "code",
   "execution_count": null,
   "metadata": {
    "collapsed": true
   },
   "outputs": [],
   "source": []
  }
 ],
 "metadata": {
  "kernelspec": {
   "display_name": "Python 3",
   "language": "python",
   "name": "python3"
  },
  "language_info": {
   "codemirror_mode": {
    "name": "ipython",
    "version": 3
   },
   "file_extension": ".py",
   "mimetype": "text/x-python",
   "name": "python",
   "nbconvert_exporter": "python",
   "pygments_lexer": "ipython3",
   "version": "3.6.1"
  }
 },
 "nbformat": 4,
 "nbformat_minor": 2
}
